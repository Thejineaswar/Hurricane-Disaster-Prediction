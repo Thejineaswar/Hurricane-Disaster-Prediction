{
 "cells": [
  {
   "cell_type": "code",
   "execution_count": 1,
   "id": "1e31a6f2",
   "metadata": {
    "execution": {
     "iopub.execute_input": "2022-04-07T09:19:31.670850Z",
     "iopub.status.busy": "2022-04-07T09:19:31.669321Z",
     "iopub.status.idle": "2022-04-07T09:19:32.739892Z",
     "shell.execute_reply": "2022-04-07T09:19:32.740885Z",
     "shell.execute_reply.started": "2022-04-07T09:06:11.551440Z"
    },
    "papermill": {
     "duration": 1.087709,
     "end_time": "2022-04-07T09:19:32.741249",
     "exception": false,
     "start_time": "2022-04-07T09:19:31.653540",
     "status": "completed"
    },
    "tags": []
   },
   "outputs": [],
   "source": [
    "import pandas as pd\n",
    "import numpy as np\n",
    "import os\n",
    "from glob import glob\n",
    "import random\n",
    "import matplotlib.pylab as plt\n",
    "import seaborn as sns\n",
    "pd.set_option('display.max_colwidth', None)"
   ]
  },
  {
   "cell_type": "code",
   "execution_count": 2,
   "id": "ca8ba59a",
   "metadata": {
    "execution": {
     "iopub.execute_input": "2022-04-07T09:19:32.783773Z",
     "iopub.status.busy": "2022-04-07T09:19:32.782944Z",
     "iopub.status.idle": "2022-04-07T09:19:52.645637Z",
     "shell.execute_reply": "2022-04-07T09:19:52.645081Z",
     "shell.execute_reply.started": "2022-04-07T09:06:12.424738Z"
    },
    "papermill": {
     "duration": 19.886257,
     "end_time": "2022-04-07T09:19:52.645771",
     "exception": false,
     "start_time": "2022-04-07T09:19:32.759514",
     "status": "completed"
    },
    "tags": []
   },
   "outputs": [],
   "source": [
    "img_paths=[]\n",
    "img_labels=[]\n",
    "for i in glob('../input/satellite-images-of-hurricane-damage/**',recursive=True):\n",
    "    if i.endswith('.jpeg'):\n",
    "        a=i.split('/')\n",
    "        img_paths.append(i)\n",
    "        img_labels.append(a[-2])"
   ]
  },
  {
   "cell_type": "code",
   "execution_count": 3,
   "id": "f4ef5ad6",
   "metadata": {
    "execution": {
     "iopub.execute_input": "2022-04-07T09:19:52.674286Z",
     "iopub.status.busy": "2022-04-07T09:19:52.673559Z",
     "iopub.status.idle": "2022-04-07T09:19:52.676868Z",
     "shell.execute_reply": "2022-04-07T09:19:52.677264Z",
     "shell.execute_reply.started": "2022-04-07T09:06:31.312493Z"
    },
    "papermill": {
     "duration": 0.020611,
     "end_time": "2022-04-07T09:19:52.677401",
     "exception": false,
     "start_time": "2022-04-07T09:19:52.656790",
     "status": "completed"
    },
    "tags": []
   },
   "outputs": [
    {
     "data": {
      "text/plain": [
       "(23000, 23000)"
      ]
     },
     "execution_count": 3,
     "metadata": {},
     "output_type": "execute_result"
    }
   ],
   "source": [
    "len(img_paths),len(img_labels)"
   ]
  },
  {
   "cell_type": "code",
   "execution_count": 4,
   "id": "e3fce0cd",
   "metadata": {
    "execution": {
     "iopub.execute_input": "2022-04-07T09:19:52.704261Z",
     "iopub.status.busy": "2022-04-07T09:19:52.703579Z",
     "iopub.status.idle": "2022-04-07T09:19:52.730154Z",
     "shell.execute_reply": "2022-04-07T09:19:52.729646Z",
     "shell.execute_reply.started": "2022-04-07T09:06:31.333143Z"
    },
    "papermill": {
     "duration": 0.041832,
     "end_time": "2022-04-07T09:19:52.730280",
     "exception": false,
     "start_time": "2022-04-07T09:19:52.688448",
     "status": "completed"
    },
    "tags": []
   },
   "outputs": [
    {
     "data": {
      "text/html": [
       "<div>\n",
       "<style scoped>\n",
       "    .dataframe tbody tr th:only-of-type {\n",
       "        vertical-align: middle;\n",
       "    }\n",
       "\n",
       "    .dataframe tbody tr th {\n",
       "        vertical-align: top;\n",
       "    }\n",
       "\n",
       "    .dataframe thead th {\n",
       "        text-align: right;\n",
       "    }\n",
       "</style>\n",
       "<table border=\"1\" class=\"dataframe\">\n",
       "  <thead>\n",
       "    <tr style=\"text-align: right;\">\n",
       "      <th></th>\n",
       "      <th>0</th>\n",
       "      <th>1</th>\n",
       "    </tr>\n",
       "  </thead>\n",
       "  <tbody>\n",
       "    <tr>\n",
       "      <th>16363</th>\n",
       "      <td>../input/satellite-images-of-hurricane-damage/test_another/damage/-95.612723_29.765194.jpeg</td>\n",
       "      <td>damage</td>\n",
       "    </tr>\n",
       "    <tr>\n",
       "      <th>7694</th>\n",
       "      <td>../input/satellite-images-of-hurricane-damage/train_another/no_damage/-95.630318_29.769136.jpeg</td>\n",
       "      <td>no_damage</td>\n",
       "    </tr>\n",
       "    <tr>\n",
       "      <th>10139</th>\n",
       "      <td>../input/satellite-images-of-hurricane-damage/test_another/damage/-93.788062_30.129061.jpeg</td>\n",
       "      <td>damage</td>\n",
       "    </tr>\n",
       "    <tr>\n",
       "      <th>10280</th>\n",
       "      <td>../input/satellite-images-of-hurricane-damage/test_another/damage/-95.640945_29.840747999999998.jpeg</td>\n",
       "      <td>damage</td>\n",
       "    </tr>\n",
       "    <tr>\n",
       "      <th>3987</th>\n",
       "      <td>../input/satellite-images-of-hurricane-damage/train_another/damage/-95.632386_29.84732.jpeg</td>\n",
       "      <td>damage</td>\n",
       "    </tr>\n",
       "  </tbody>\n",
       "</table>\n",
       "</div>"
      ],
      "text/plain": [
       "                                                                                                          0  \\\n",
       "16363           ../input/satellite-images-of-hurricane-damage/test_another/damage/-95.612723_29.765194.jpeg   \n",
       "7694        ../input/satellite-images-of-hurricane-damage/train_another/no_damage/-95.630318_29.769136.jpeg   \n",
       "10139           ../input/satellite-images-of-hurricane-damage/test_another/damage/-93.788062_30.129061.jpeg   \n",
       "10280  ../input/satellite-images-of-hurricane-damage/test_another/damage/-95.640945_29.840747999999998.jpeg   \n",
       "3987            ../input/satellite-images-of-hurricane-damage/train_another/damage/-95.632386_29.84732.jpeg   \n",
       "\n",
       "               1  \n",
       "16363     damage  \n",
       "7694   no_damage  \n",
       "10139     damage  \n",
       "10280     damage  \n",
       "3987      damage  "
      ]
     },
     "execution_count": 4,
     "metadata": {},
     "output_type": "execute_result"
    }
   ],
   "source": [
    "img_path = pd.Series(img_paths).astype(str)\n",
    "labels=pd.Series(img_labels)\n",
    "data = pd.concat([img_path,labels],axis=1)\n",
    "data.sample(5)"
   ]
  },
  {
   "cell_type": "code",
   "execution_count": 5,
   "id": "0b872ec6",
   "metadata": {
    "execution": {
     "iopub.execute_input": "2022-04-07T09:19:52.757559Z",
     "iopub.status.busy": "2022-04-07T09:19:52.756909Z",
     "iopub.status.idle": "2022-04-07T09:19:52.925432Z",
     "shell.execute_reply": "2022-04-07T09:19:52.924871Z",
     "shell.execute_reply.started": "2022-04-07T09:06:31.543771Z"
    },
    "papermill": {
     "duration": 0.18383,
     "end_time": "2022-04-07T09:19:52.925583",
     "exception": false,
     "start_time": "2022-04-07T09:19:52.741753",
     "status": "completed"
    },
    "tags": []
   },
   "outputs": [
    {
     "data": {
      "text/plain": [
       "((17250, 2), (5750, 2))"
      ]
     },
     "execution_count": 5,
     "metadata": {},
     "output_type": "execute_result"
    }
   ],
   "source": [
    "from sklearn.model_selection import train_test_split\n",
    "train_set , test_set = train_test_split(data,test_size=0.25,random_state=0)\n",
    "train_set.shape,test_set.shape"
   ]
  },
  {
   "cell_type": "code",
   "execution_count": 6,
   "id": "fbc0c8d2",
   "metadata": {
    "execution": {
     "iopub.execute_input": "2022-04-07T09:19:52.958032Z",
     "iopub.status.busy": "2022-04-07T09:19:52.957326Z",
     "iopub.status.idle": "2022-04-07T09:19:57.207591Z",
     "shell.execute_reply": "2022-04-07T09:19:57.206665Z",
     "shell.execute_reply.started": "2022-04-07T09:06:31.708489Z"
    },
    "papermill": {
     "duration": 4.268239,
     "end_time": "2022-04-07T09:19:57.207744",
     "exception": false,
     "start_time": "2022-04-07T09:19:52.939505",
     "status": "completed"
    },
    "tags": []
   },
   "outputs": [],
   "source": [
    "import tensorflow as tf\n",
    "from tensorflow.keras.preprocessing.image import ImageDataGenerator\n",
    "from tensorflow import keras"
   ]
  },
  {
   "cell_type": "code",
   "execution_count": 7,
   "id": "ac55c139",
   "metadata": {
    "execution": {
     "iopub.execute_input": "2022-04-07T09:19:57.241043Z",
     "iopub.status.busy": "2022-04-07T09:19:57.239681Z",
     "iopub.status.idle": "2022-04-07T09:20:14.226971Z",
     "shell.execute_reply": "2022-04-07T09:20:14.227354Z",
     "shell.execute_reply.started": "2022-04-07T09:06:36.426579Z"
    },
    "papermill": {
     "duration": 17.00784,
     "end_time": "2022-04-07T09:20:14.227505",
     "exception": false,
     "start_time": "2022-04-07T09:19:57.219665",
     "status": "completed"
    },
    "tags": []
   },
   "outputs": [
    {
     "name": "stdout",
     "output_type": "stream",
     "text": [
      "Found 15525 validated image filenames belonging to 2 classes.\n",
      "Found 1725 validated image filenames belonging to 2 classes.\n",
      "Found 5750 validated image filenames belonging to 2 classes.\n"
     ]
    }
   ],
   "source": [
    "train_gen = ImageDataGenerator(validation_split=0.1,rotation_range=10, \n",
    "        width_shift_range=0.2, \n",
    "        height_shift_range=0.2,\n",
    "        zoom_range=0.2,\n",
    "        horizontal_flip=True, \n",
    "        brightness_range=[0.2,1.2]) \n",
    "test_gen = ImageDataGenerator(rotation_range=10, \n",
    "        width_shift_range=0.2,\n",
    "        height_shift_range=0.2,\n",
    "        zoom_range=0.2,\n",
    "        horizontal_flip=True, \n",
    "        brightness_range=[0.2,1.2]) \n",
    "\n",
    "train_data = train_gen.flow_from_dataframe(\n",
    "    dataframe = train_set,\n",
    "    x_col = 0,\n",
    "    y_col = 1,\n",
    "    target_size = (227,227),\n",
    "    color_mode = 'rgb',\n",
    "    class_mode = 'categorical',\n",
    "    shuffle = True,\n",
    "    subset = 'training',\n",
    "    batch_size=100,\n",
    "    seed=2020\n",
    ")\n",
    "\n",
    "val_data = train_gen.flow_from_dataframe(\n",
    "    dataframe = train_set,\n",
    "    x_col = 0,\n",
    "    y_col = 1,\n",
    "    target_size = (227,227),\n",
    "    color_mode = 'rgb',\n",
    "    class_mode = 'categorical',\n",
    "    shuffle = False,\n",
    "    subset = 'validation',\n",
    "    batch_size=100,\n",
    "    seed=2020\n",
    ")\n",
    "\n",
    "test_data = test_gen.flow_from_dataframe(\n",
    "    dataframe = test_set,\n",
    "    x_col = 0,\n",
    "    y_col = 1,\n",
    "    target_size = (227,227),\n",
    "    color_mode = 'rgb',\n",
    "    class_mode = 'categorical',\n",
    "    shuffle = False,\n",
    "    batch_size=100,\n",
    "    seed=2020\n",
    ")"
   ]
  },
  {
   "cell_type": "code",
   "execution_count": 8,
   "id": "369634f0",
   "metadata": {
    "execution": {
     "iopub.execute_input": "2022-04-07T09:20:14.265250Z",
     "iopub.status.busy": "2022-04-07T09:20:14.264639Z",
     "iopub.status.idle": "2022-04-07T09:20:16.462703Z",
     "shell.execute_reply": "2022-04-07T09:20:16.461818Z",
     "shell.execute_reply.started": "2022-04-07T09:06:51.715367Z"
    },
    "papermill": {
     "duration": 2.222672,
     "end_time": "2022-04-07T09:20:16.462843",
     "exception": false,
     "start_time": "2022-04-07T09:20:14.240171",
     "status": "completed"
    },
    "tags": []
   },
   "outputs": [],
   "source": [
    "model = keras.models.Sequential([\n",
    "    keras.layers.Conv2D(filters=96, kernel_size=(11,11), strides=(4,4), activation='relu', input_shape=(227,227,3)),\n",
    "    keras.layers.BatchNormalization(),\n",
    "    keras.layers.MaxPool2D(pool_size=(3,3), strides=(2,2)),\n",
    "    \n",
    "    \n",
    "    keras.layers.Conv2D(filters=256, kernel_size=(5,5), strides=(1,1), activation='relu', padding=\"same\"),\n",
    "    keras.layers.BatchNormalization(),\n",
    "    keras.layers.MaxPool2D(pool_size=(3,3), strides=(2,2)),\n",
    "    \n",
    "    keras.layers.Conv2D(filters=384, kernel_size=(3,3), strides=(1,1), activation='relu', padding=\"same\"),\n",
    "    keras.layers.BatchNormalization(),\n",
    "    \n",
    "    keras.layers.Conv2D(filters=384, kernel_size=(3,3), strides=(1,1), activation='relu', padding=\"same\"),\n",
    "    keras.layers.BatchNormalization(),\n",
    "    keras.layers.Conv2D(filters=256, kernel_size=(3,3), strides=(1,1), activation='relu', padding=\"same\"),\n",
    "    keras.layers.BatchNormalization(),\n",
    "    keras.layers.MaxPool2D(pool_size=(3,3), strides=(2,2)),\n",
    "    keras.layers.Flatten(),\n",
    "    keras.layers.Dense(4096, activation='relu'),\n",
    "    keras.layers.Dropout(0.5),\n",
    "    keras.layers.Dense(4096, activation='relu'),\n",
    "    keras.layers.Dropout(0.5),\n",
    "    keras.layers.Dense(2, activation='sigmoid')\n",
    "])\n",
    "model.compile(\n",
    "    optimizer=tf.optimizers.Adam(lr=0.000001),\n",
    "    loss='binary_crossentropy',\n",
    "    metrics=['accuracy','Recall']\n",
    ")\n"
   ]
  },
  {
   "cell_type": "code",
   "execution_count": null,
   "id": "6432740b",
   "metadata": {
    "papermill": {
     "duration": 0.012094,
     "end_time": "2022-04-07T09:20:16.487639",
     "exception": false,
     "start_time": "2022-04-07T09:20:16.475545",
     "status": "completed"
    },
    "tags": []
   },
   "outputs": [],
   "source": []
  },
  {
   "cell_type": "code",
   "execution_count": 9,
   "id": "501cf8d4",
   "metadata": {
    "execution": {
     "iopub.execute_input": "2022-04-07T09:20:16.517141Z",
     "iopub.status.busy": "2022-04-07T09:20:16.516636Z",
     "iopub.status.idle": "2022-04-07T09:20:35.774246Z",
     "shell.execute_reply": "2022-04-07T09:20:35.775243Z",
     "shell.execute_reply.started": "2022-04-07T09:06:54.178512Z"
    },
    "papermill": {
     "duration": 19.275493,
     "end_time": "2022-04-07T09:20:35.775464",
     "exception": false,
     "start_time": "2022-04-07T09:20:16.499971",
     "status": "completed"
    },
    "tags": []
   },
   "outputs": [
    {
     "name": "stdout",
     "output_type": "stream",
     "text": [
      "Requirement already satisfied: wandb in /opt/conda/lib/python3.7/site-packages (0.10.33)\r\n",
      "Collecting wandb\r\n",
      "  Downloading wandb-0.12.12-py2.py3-none-any.whl (1.8 MB)\r\n",
      "\u001b[K     |████████████████████████████████| 1.8 MB 926 kB/s \r\n",
      "\u001b[?25hRequirement already satisfied: sentry-sdk>=1.0.0 in /opt/conda/lib/python3.7/site-packages (from wandb) (1.2.0)\r\n",
      "Requirement already satisfied: psutil>=5.0.0 in /opt/conda/lib/python3.7/site-packages (from wandb) (5.8.0)\r\n",
      "Requirement already satisfied: protobuf>=3.12.0 in /opt/conda/lib/python3.7/site-packages (from wandb) (3.17.3)\r\n",
      "Requirement already satisfied: six>=1.13.0 in /opt/conda/lib/python3.7/site-packages (from wandb) (1.15.0)\r\n",
      "Requirement already satisfied: python-dateutil>=2.6.1 in /opt/conda/lib/python3.7/site-packages (from wandb) (2.8.1)\r\n",
      "Requirement already satisfied: requests<3,>=2.0.0 in /opt/conda/lib/python3.7/site-packages (from wandb) (2.25.1)\r\n",
      "Requirement already satisfied: shortuuid>=0.5.0 in /opt/conda/lib/python3.7/site-packages (from wandb) (1.0.1)\r\n",
      "Requirement already satisfied: GitPython>=1.0.0 in /opt/conda/lib/python3.7/site-packages (from wandb) (3.1.18)\r\n",
      "Requirement already satisfied: Click!=8.0.0,>=7.0 in /opt/conda/lib/python3.7/site-packages (from wandb) (7.1.2)\r\n",
      "Collecting setproctitle\r\n",
      "  Downloading setproctitle-1.2.2-cp37-cp37m-manylinux1_x86_64.whl (36 kB)\r\n",
      "Requirement already satisfied: PyYAML in /opt/conda/lib/python3.7/site-packages (from wandb) (5.4.1)\r\n",
      "Requirement already satisfied: docker-pycreds>=0.4.0 in /opt/conda/lib/python3.7/site-packages (from wandb) (0.4.0)\r\n",
      "Requirement already satisfied: pathtools in /opt/conda/lib/python3.7/site-packages (from wandb) (0.1.2)\r\n",
      "Requirement already satisfied: promise<3,>=2.0 in /opt/conda/lib/python3.7/site-packages (from wandb) (2.3)\r\n",
      "Requirement already satisfied: typing-extensions>=3.7.4.0 in /opt/conda/lib/python3.7/site-packages (from GitPython>=1.0.0->wandb) (3.7.4.3)\r\n",
      "Requirement already satisfied: gitdb<5,>=4.0.1 in /opt/conda/lib/python3.7/site-packages (from GitPython>=1.0.0->wandb) (4.0.7)\r\n",
      "Requirement already satisfied: smmap<5,>=3.0.1 in /opt/conda/lib/python3.7/site-packages (from gitdb<5,>=4.0.1->GitPython>=1.0.0->wandb) (3.0.5)\r\n",
      "Requirement already satisfied: chardet<5,>=3.0.2 in /opt/conda/lib/python3.7/site-packages (from requests<3,>=2.0.0->wandb) (4.0.0)\r\n",
      "Requirement already satisfied: certifi>=2017.4.17 in /opt/conda/lib/python3.7/site-packages (from requests<3,>=2.0.0->wandb) (2021.5.30)\r\n",
      "Requirement already satisfied: urllib3<1.27,>=1.21.1 in /opt/conda/lib/python3.7/site-packages (from requests<3,>=2.0.0->wandb) (1.26.5)\r\n",
      "Requirement already satisfied: idna<3,>=2.5 in /opt/conda/lib/python3.7/site-packages (from requests<3,>=2.0.0->wandb) (2.10)\r\n",
      "Installing collected packages: setproctitle, wandb\r\n",
      "  Attempting uninstall: wandb\r\n",
      "    Found existing installation: wandb 0.10.33\r\n",
      "    Uninstalling wandb-0.10.33:\r\n",
      "      Successfully uninstalled wandb-0.10.33\r\n",
      "\u001b[31mERROR: pip's dependency resolver does not currently take into account all the packages that are installed. This behaviour is the source of the following dependency conflicts.\r\n",
      "allennlp 2.5.0 requires wandb<0.11.0,>=0.10.0, but you have wandb 0.12.12 which is incompatible.\u001b[0m\r\n",
      "Successfully installed setproctitle-1.2.2 wandb-0.12.12\r\n",
      "\u001b[33mWARNING: Running pip as root will break packages and permissions. You should install packages reliably by using venv: https://pip.pypa.io/warnings/venv\u001b[0m\r\n"
     ]
    },
    {
     "name": "stderr",
     "output_type": "stream",
     "text": [
      "\u001b[34m\u001b[1mwandb\u001b[0m: W&B API key is configured (use `wandb login --relogin` to force relogin)\n",
      "\u001b[34m\u001b[1mwandb\u001b[0m: \u001b[33mWARNING\u001b[0m If you're specifying your api key in code, ensure this code is not shared publicly.\n",
      "\u001b[34m\u001b[1mwandb\u001b[0m: \u001b[33mWARNING\u001b[0m Consider setting the WANDB_API_KEY environment variable, or running `wandb login` from the command line.\n",
      "\u001b[34m\u001b[1mwandb\u001b[0m: Appending key for api.wandb.ai to your netrc file: /root/.netrc\n",
      "\u001b[34m\u001b[1mwandb\u001b[0m: Currently logged in as: \u001b[33mgthejin\u001b[0m (use `wandb login --relogin` to force relogin)\n"
     ]
    },
    {
     "data": {
      "text/html": [
       "Tracking run with wandb version 0.12.12"
      ],
      "text/plain": [
       "<IPython.core.display.HTML object>"
      ]
     },
     "metadata": {},
     "output_type": "display_data"
    },
    {
     "data": {
      "text/html": [
       "Run data is saved locally in <code>/kaggle/working/wandb/run-20220407_092029-3991lzow</code>"
      ],
      "text/plain": [
       "<IPython.core.display.HTML object>"
      ]
     },
     "metadata": {},
     "output_type": "display_data"
    },
    {
     "data": {
      "text/html": [
       "Syncing run <strong><a href=\"https://wandb.ai/gthejin/ML_J_COMP_TENSORFLOW/runs/3991lzow\" target=\"_blank\">firm-elevator-6</a></strong> to <a href=\"https://wandb.ai/gthejin/ML_J_COMP_TENSORFLOW\" target=\"_blank\">Weights & Biases</a> (<a href=\"https://wandb.me/run\" target=\"_blank\">docs</a>)<br/>"
      ],
      "text/plain": [
       "<IPython.core.display.HTML object>"
      ]
     },
     "metadata": {},
     "output_type": "display_data"
    },
    {
     "data": {
      "text/html": [
       "<button onClick=\"this.nextSibling.style.display='block';this.style.display='none';\">Display W&B run</button><iframe src=\"https://wandb.ai/gthejin/ML_J_COMP_TENSORFLOW/runs/3991lzow?jupyter=true\" style=\"border:none;width:100%;height:420px;display:none;\"></iframe>"
      ],
      "text/plain": [
       "<wandb.sdk.wandb_run.Run at 0x7f06da7aa410>"
      ]
     },
     "execution_count": 9,
     "metadata": {},
     "output_type": "execute_result"
    }
   ],
   "source": [
    "!pip install wandb --upgrade\n",
    "import wandb\n",
    "from wandb.keras import WandbCallback\n",
    "wandb.login(key = '5c890c5f71b46a63dd49c1b634505dc3159a874b')\n",
    "wandb.init(project=\"ML_J_COMP_TENSORFLOW\")"
   ]
  },
  {
   "cell_type": "code",
   "execution_count": 10,
   "id": "4c245dc3",
   "metadata": {
    "execution": {
     "iopub.execute_input": "2022-04-07T09:20:35.875771Z",
     "iopub.status.busy": "2022-04-07T09:20:35.870190Z",
     "iopub.status.idle": "2022-04-07T10:21:39.262854Z",
     "shell.execute_reply": "2022-04-07T10:21:39.264379Z",
     "shell.execute_reply.started": "2022-04-07T09:08:45.568583Z"
    },
    "papermill": {
     "duration": 3663.453024,
     "end_time": "2022-04-07T10:21:39.264689",
     "exception": false,
     "start_time": "2022-04-07T09:20:35.811665",
     "status": "completed"
    },
    "tags": []
   },
   "outputs": [
    {
     "name": "stdout",
     "output_type": "stream",
     "text": [
      "Epoch 1/15\n",
      "156/156 [==============================] - 284s 2s/step - loss: 1.2234 - accuracy: 0.5649 - recall: 0.5270 - val_loss: 0.5952 - val_accuracy: 0.6812 - val_recall: 0.6730\n",
      "Epoch 2/15\n",
      "156/156 [==============================] - 234s 2s/step - loss: 0.9430 - accuracy: 0.6843 - recall: 0.6495 - val_loss: 0.5524 - val_accuracy: 0.7159 - val_recall: 0.7432\n",
      "Epoch 3/15\n",
      "156/156 [==============================] - 235s 2s/step - loss: 0.8289 - accuracy: 0.7143 - recall: 0.6885 - val_loss: 0.4977 - val_accuracy: 0.7693 - val_recall: 0.7977\n",
      "Epoch 4/15\n",
      "156/156 [==============================] - 234s 2s/step - loss: 0.7827 - accuracy: 0.7397 - recall: 0.7098 - val_loss: 0.4837 - val_accuracy: 0.7855 - val_recall: 0.7983\n",
      "Epoch 5/15\n",
      "156/156 [==============================] - 237s 2s/step - loss: 0.7116 - accuracy: 0.7609 - recall: 0.7264 - val_loss: 0.4576 - val_accuracy: 0.8145 - val_recall: 0.8336\n",
      "Epoch 6/15\n",
      "156/156 [==============================] - 234s 2s/step - loss: 0.6625 - accuracy: 0.7797 - recall: 0.7587 - val_loss: 0.4269 - val_accuracy: 0.8272 - val_recall: 0.8446\n",
      "Epoch 7/15\n",
      "156/156 [==============================] - 235s 2s/step - loss: 0.6077 - accuracy: 0.7998 - recall: 0.7729 - val_loss: 0.4155 - val_accuracy: 0.8412 - val_recall: 0.8493\n",
      "Epoch 8/15\n",
      "156/156 [==============================] - 242s 2s/step - loss: 0.5871 - accuracy: 0.8038 - recall: 0.7847 - val_loss: 0.3814 - val_accuracy: 0.8423 - val_recall: 0.8557\n",
      "Epoch 9/15\n",
      "156/156 [==============================] - 237s 2s/step - loss: 0.5579 - accuracy: 0.8162 - recall: 0.7976 - val_loss: 0.3692 - val_accuracy: 0.8626 - val_recall: 0.8690\n",
      "Epoch 10/15\n",
      "156/156 [==============================] - 236s 2s/step - loss: 0.5249 - accuracy: 0.8295 - recall: 0.8054 - val_loss: 0.3600 - val_accuracy: 0.8551 - val_recall: 0.8684\n",
      "Epoch 11/15\n",
      "156/156 [==============================] - 244s 2s/step - loss: 0.4836 - accuracy: 0.8403 - recall: 0.8174 - val_loss: 0.3330 - val_accuracy: 0.8672 - val_recall: 0.8817\n",
      "Epoch 12/15\n",
      "156/156 [==============================] - 248s 2s/step - loss: 0.4634 - accuracy: 0.8448 - recall: 0.8263 - val_loss: 0.3224 - val_accuracy: 0.8759 - val_recall: 0.8841\n",
      "Epoch 13/15\n",
      "156/156 [==============================] - 247s 2s/step - loss: 0.4310 - accuracy: 0.8557 - recall: 0.8373 - val_loss: 0.3078 - val_accuracy: 0.8858 - val_recall: 0.8968\n",
      "Epoch 14/15\n",
      "156/156 [==============================] - 245s 2s/step - loss: 0.4351 - accuracy: 0.8547 - recall: 0.8397 - val_loss: 0.2995 - val_accuracy: 0.8875 - val_recall: 0.9009\n",
      "Epoch 15/15\n",
      "156/156 [==============================] - 240s 2s/step - loss: 0.4084 - accuracy: 0.8645 - recall: 0.8473 - val_loss: 0.2885 - val_accuracy: 0.8881 - val_recall: 0.9020\n"
     ]
    }
   ],
   "source": [
    "history = model.fit(train_data,epochs=15,validation_data=val_data,callbacks = [WandbCallback()])"
   ]
  },
  {
   "cell_type": "code",
   "execution_count": 11,
   "id": "7f7c60b6",
   "metadata": {
    "execution": {
     "iopub.execute_input": "2022-04-07T10:21:40.520099Z",
     "iopub.status.busy": "2022-04-07T10:21:40.519098Z",
     "iopub.status.idle": "2022-04-07T10:23:22.941939Z",
     "shell.execute_reply": "2022-04-07T10:23:22.941023Z",
     "shell.execute_reply.started": "2022-04-07T09:14:22.300115Z"
    },
    "papermill": {
     "duration": 103.048226,
     "end_time": "2022-04-07T10:23:22.942083",
     "exception": false,
     "start_time": "2022-04-07T10:21:39.893857",
     "status": "completed"
    },
    "tags": []
   },
   "outputs": [],
   "source": [
    "y_pred = model.predict(test_data)\n",
    "y_pred = np.argmax(y_pred,axis=1)"
   ]
  },
  {
   "cell_type": "code",
   "execution_count": 12,
   "id": "85f2c7de",
   "metadata": {
    "execution": {
     "iopub.execute_input": "2022-04-07T10:23:24.216117Z",
     "iopub.status.busy": "2022-04-07T10:23:24.215330Z",
     "iopub.status.idle": "2022-04-07T10:23:24.236555Z",
     "shell.execute_reply": "2022-04-07T10:23:24.236953Z",
     "shell.execute_reply.started": "2022-04-07T09:16:47.388406Z"
    },
    "papermill": {
     "duration": 0.669896,
     "end_time": "2022-04-07T10:23:24.237095",
     "exception": false,
     "start_time": "2022-04-07T10:23:23.567199",
     "status": "completed"
    },
    "tags": []
   },
   "outputs": [
    {
     "name": "stdout",
     "output_type": "stream",
     "text": [
      "              precision    recall  f1-score   support\n",
      "\n",
      "           0       0.89      0.94      0.92      3739\n",
      "           1       0.88      0.79      0.83      2011\n",
      "\n",
      "    accuracy                           0.89      5750\n",
      "   macro avg       0.89      0.87      0.88      5750\n",
      "weighted avg       0.89      0.89      0.89      5750\n",
      "\n"
     ]
    }
   ],
   "source": [
    "from sklearn.metrics import classification_report, confusion_matrix\n",
    "print(classification_report(test_data.labels,y_pred))"
   ]
  },
  {
   "cell_type": "code",
   "execution_count": 13,
   "id": "8b0976d4",
   "metadata": {
    "execution": {
     "iopub.execute_input": "2022-04-07T10:23:25.531717Z",
     "iopub.status.busy": "2022-04-07T10:23:25.531007Z",
     "iopub.status.idle": "2022-04-07T10:23:25.552556Z",
     "shell.execute_reply": "2022-04-07T10:23:25.552075Z",
     "shell.execute_reply.started": "2022-04-07T09:16:49.462322Z"
    },
    "papermill": {
     "duration": 0.661217,
     "end_time": "2022-04-07T10:23:25.552678",
     "exception": false,
     "start_time": "2022-04-07T10:23:24.891461",
     "status": "completed"
    },
    "tags": []
   },
   "outputs": [],
   "source": [
    "classes=['Damage','No Damage']\n",
    "con_mat_df = pd.DataFrame(confusion_matrix(test_data.labels,y_pred),\n",
    "                     index = classes, \n",
    "                     columns = classes)"
   ]
  },
  {
   "cell_type": "code",
   "execution_count": 14,
   "id": "7db723cd",
   "metadata": {
    "execution": {
     "iopub.execute_input": "2022-04-07T10:23:26.830142Z",
     "iopub.status.busy": "2022-04-07T10:23:26.824921Z",
     "iopub.status.idle": "2022-04-07T10:23:27.105542Z",
     "shell.execute_reply": "2022-04-07T10:23:27.105957Z",
     "shell.execute_reply.started": "2022-04-07T09:16:51.738751Z"
    },
    "papermill": {
     "duration": 0.927302,
     "end_time": "2022-04-07T10:23:27.106112",
     "exception": false,
     "start_time": "2022-04-07T10:23:26.178810",
     "status": "completed"
    },
    "tags": []
   },
   "outputs": [
    {
     "data": {
      "image/png": "[encoded data removed]",
      "text/plain": [
       "<Figure size 864x432 with 2 Axes>"
      ]
     },
     "metadata": {
      "needs_background": "light"
     },
     "output_type": "display_data"
    }
   ],
   "source": [
    "import seaborn as sns\n",
    "figure = plt.figure(figsize=(12, 6))\n",
    "sns.heatmap(con_mat_df, annot=True,cmap=plt.cm.cool,fmt='d')\n",
    "plt.tight_layout()\n",
    "plt.ylabel('Actual')\n",
    "plt.xlabel('Predicted')\n",
    "plt.show()"
   ]
  }
 ],
 "metadata": {
  "kernelspec": {
   "display_name": "Python 3",
   "language": "python",
   "name": "python3"
  },
  "language_info": {
   "codemirror_mode": {
    "name": "ipython",
    "version": 3
   },
   "file_extension": ".py",
   "mimetype": "text/x-python",
   "name": "python",
   "nbconvert_exporter": "python",
   "pygments_lexer": "ipython3",
   "version": "3.7.10"
  },
  "papermill": {
   "default_parameters": {},
   "duration": 3845.642617,
   "end_time": "2022-04-07T10:23:30.438448",
   "environment_variables": {},
   "exception": null,
   "input_path": "__notebook__.ipynb",
   "output_path": "__notebook__.ipynb",
   "parameters": {},
   "start_time": "2022-04-07T09:19:24.795831",
   "version": "2.3.3"
  },
  "widgets": {
   "application/vnd.jupyter.widget-state+json": {
    "state": {
     "0471c69b248546b3ad96ddeef9fd4da1": {
      "model_module": "@jupyter-widgets/base",
      "model_module_version": "1.2.0",
      "model_name": "LayoutModel",
      "state": {
       "_model_module": "@jupyter-widgets/base",
       "_model_module_version": "1.2.0",
       "_model_name": "LayoutModel",
       "_view_count": null,
       "_view_module": "@jupyter-widgets/base",
       "_view_module_version": "1.2.0",
       "_view_name": "LayoutView",
       "align_content": null,
       "align_items": null,
       "align_self": null,
       "border": null,
       "bottom": null,
       "display": null,
       "flex": null,
       "flex_flow": null,
       "grid_area": null,
       "grid_auto_columns": null,
       "grid_auto_flow": null,
       "grid_auto_rows": null,
       "grid_column": null,
       "grid_gap": null,
       "grid_row": null,
       "grid_template_areas": null,
       "grid_template_columns": null,
       "grid_template_rows": null,
       "height": null,
       "justify_content": null,
       "justify_items": null,
       "left": null,
       "margin": null,
       "max_height": null,
       "max_width": null,
       "min_height": null,
       "min_width": null,
       "object_fit": null,
       "object_position": null,
       "order": null,
       "overflow": null,
       "overflow_x": null,
       "overflow_y": null,
       "padding": null,
       "right": null,
       "top": null,
       "visibility": null,
       "width": null
      }
     },
     "0607bcc2679b44ffbb82a8aa6f1e1f92": {
      "model_module": "@jupyter-widgets/controls",
      "model_module_version": "1.5.0",
      "model_name": "ProgressStyleModel",
      "state": {
       "_model_module": "@jupyter-widgets/controls",
       "_model_module_version": "1.5.0",
       "_model_name": "ProgressStyleModel",
       "_view_count": null,
       "_view_module": "@jupyter-widgets/base",
       "_view_module_version": "1.2.0",
       "_view_name": "StyleView",
       "bar_color": null,
       "description_width": ""
      }
     },
     "11a8ee4827ff457dbfa742fa43d428bc": {
      "model_module": "@jupyter-widgets/controls",
      "model_module_version": "1.5.0",
      "model_name": "DescriptionStyleModel",
      "state": {
       "_model_module": "@jupyter-widgets/controls",
       "_model_module_version": "1.5.0",
       "_model_name": "DescriptionStyleModel",
       "_view_count": null,
       "_view_module": "@jupyter-widgets/base",
       "_view_module_version": "1.2.0",
       "_view_name": "StyleView",
       "description_width": ""
      }
     },
     "26c6f479b3314095af04528b7beb117f": {
      "model_module": "@jupyter-widgets/base",
      "model_module_version": "1.2.0",
      "model_name": "LayoutModel",
      "state": {
       "_model_module": "@jupyter-widgets/base",
       "_model_module_version": "1.2.0",
       "_model_name": "LayoutModel",
       "_view_count": null,
       "_view_module": "@jupyter-widgets/base",
       "_view_module_version": "1.2.0",
       "_view_name": "LayoutView",
       "align_content": null,
       "align_items": null,
       "align_self": null,
       "border": null,
       "bottom": null,
       "display": null,
       "flex": null,
       "flex_flow": null,
       "grid_area": null,
       "grid_auto_columns": null,
       "grid_auto_flow": null,
       "grid_auto_rows": null,
       "grid_column": null,
       "grid_gap": null,
       "grid_row": null,
       "grid_template_areas": null,
       "grid_template_columns": null,
       "grid_template_rows": null,
       "height": null,
       "justify_content": null,
       "justify_items": null,
       "left": null,
       "margin": null,
       "max_height": null,
       "max_width": null,
       "min_height": null,
       "min_width": null,
       "object_fit": null,
       "object_position": null,
       "order": null,
       "overflow": null,
       "overflow_x": null,
       "overflow_y": null,
       "padding": null,
       "right": null,
       "top": null,
       "visibility": null,
       "width": null
      }
     },
     "3e86326b84f049678207684aaec7369a": {
      "model_module": "@jupyter-widgets/base",
      "model_module_version": "1.2.0",
      "model_name": "LayoutModel",
      "state": {
       "_model_module": "@jupyter-widgets/base",
       "_model_module_version": "1.2.0",
       "_model_name": "LayoutModel",
       "_view_count": null,
       "_view_module": "@jupyter-widgets/base",
       "_view_module_version": "1.2.0",
       "_view_name": "LayoutView",
       "align_content": null,
       "align_items": null,
       "align_self": null,
       "border": null,
       "bottom": null,
       "display": null,
       "flex": null,
       "flex_flow": null,
       "grid_area": null,
       "grid_auto_columns": null,
       "grid_auto_flow": null,
       "grid_auto_rows": null,
       "grid_column": null,
       "grid_gap": null,
       "grid_row": null,
       "grid_template_areas": null,
       "grid_template_columns": null,
       "grid_template_rows": null,
       "height": null,
       "justify_content": null,
       "justify_items": null,
       "left": null,
       "margin": null,
       "max_height": null,
       "max_width": null,
       "min_height": null,
       "min_width": null,
       "object_fit": null,
       "object_position": null,
       "order": null,
       "overflow": null,
       "overflow_x": null,
       "overflow_y": null,
       "padding": null,
       "right": null,
       "top": null,
       "visibility": null,
       "width": null
      }
     },
     "4c6c8b1f61214a6da0ad9e6e4b3ebd30": {
      "model_module": "@jupyter-widgets/controls",
      "model_module_version": "1.5.0",
      "model_name": "VBoxModel",
      "state": {
       "_dom_classes": [],
       "_model_module": "@jupyter-widgets/controls",
       "_model_module_version": "1.5.0",
       "_model_name": "VBoxModel",
       "_view_count": null,
       "_view_module": "@jupyter-widgets/controls",
       "_view_module_version": "1.5.0",
       "_view_name": "VBoxView",
       "box_style": "",
       "children": [
        "IPY_MODEL_598bb455bd0c49f58b80ac0f88790381",
        "IPY_MODEL_fef3e3a685df4cf08b7f81866bfa8030"
       ],
       "layout": "IPY_MODEL_748341479424470bb2efdea54ca863c3"
      }
     },
     "598bb455bd0c49f58b80ac0f88790381": {
      "model_module": "@jupyter-widgets/controls",
      "model_module_version": "1.5.0",
      "model_name": "LabelModel",
      "state": {
       "_dom_classes": [],
       "_model_module": "@jupyter-widgets/controls",
       "_model_module_version": "1.5.0",
       "_model_name": "LabelModel",
       "_view_count": null,
       "_view_module": "@jupyter-widgets/controls",
       "_view_module_version": "1.5.0",
       "_view_name": "LabelView",
       "description": "",
       "description_tooltip": null,
       "layout": "IPY_MODEL_cb84361950e54759a565025e85f371ef",
       "placeholder": "​",
       "style": "IPY_MODEL_60c280c2b45f4d7f8ec8afbcbf118a0b",
       "value": ""
      }
     },
     "60c280c2b45f4d7f8ec8afbcbf118a0b": {
      "model_module": "@jupyter-widgets/controls",
      "model_module_version": "1.5.0",
      "model_name": "DescriptionStyleModel",
      "state": {
       "_model_module": "@jupyter-widgets/controls",
       "_model_module_version": "1.5.0",
       "_model_name": "DescriptionStyleModel",
       "_view_count": null,
       "_view_module": "@jupyter-widgets/base",
       "_view_module_version": "1.2.0",
       "_view_name": "StyleView",
       "description_width": ""
      }
     },
     "6dc581fcfa1b447db5aade1aeb3f2019": {
      "model_module": "@jupyter-widgets/controls",
      "model_module_version": "1.5.0",
      "model_name": "LabelModel",
      "state": {
       "_dom_classes": [],
       "_model_module": "@jupyter-widgets/controls",
       "_model_module_version": "1.5.0",
       "_model_name": "LabelModel",
       "_view_count": null,
       "_view_module": "@jupyter-widgets/controls",
       "_view_module_version": "1.5.0",
       "_view_name": "LabelView",
       "description": "",
       "description_tooltip": null,
       "layout": "IPY_MODEL_26c6f479b3314095af04528b7beb117f",
       "placeholder": "​",
       "style": "IPY_MODEL_11a8ee4827ff457dbfa742fa43d428bc",
       "value": ""
      }
     },
     "748341479424470bb2efdea54ca863c3": {
      "model_module": "@jupyter-widgets/base",
      "model_module_version": "1.2.0",
      "model_name": "LayoutModel",
      "state": {
       "_model_module": "@jupyter-widgets/base",
       "_model_module_version": "1.2.0",
       "_model_name": "LayoutModel",
       "_view_count": null,
       "_view_module": "@jupyter-widgets/base",
       "_view_module_version": "1.2.0",
       "_view_name": "LayoutView",
       "align_content": null,
       "align_items": null,
       "align_self": null,
       "border": null,
       "bottom": null,
       "display": null,
       "flex": null,
       "flex_flow": null,
       "grid_area": null,
       "grid_auto_columns": null,
       "grid_auto_flow": null,
       "grid_auto_rows": null,
       "grid_column": null,
       "grid_gap": null,
       "grid_row": null,
       "grid_template_areas": null,
       "grid_template_columns": null,
       "grid_template_rows": null,
       "height": null,
       "justify_content": null,
       "justify_items": null,
       "left": null,
       "margin": null,
       "max_height": null,
       "max_width": null,
       "min_height": null,
       "min_width": null,
       "object_fit": null,
       "object_position": null,
       "order": null,
       "overflow": null,
       "overflow_x": null,
       "overflow_y": null,
       "padding": null,
       "right": null,
       "top": null,
       "visibility": null,
       "width": null
      }
     },
     "76444b4618524cd894d2a194cac2877d": {
      "model_module": "@jupyter-widgets/base",
      "model_module_version": "1.2.0",
      "model_name": "LayoutModel",
      "state": {
       "_model_module": "@jupyter-widgets/base",
       "_model_module_version": "1.2.0",
       "_model_name": "LayoutModel",
       "_view_count": null,
       "_view_module": "@jupyter-widgets/base",
       "_view_module_version": "1.2.0",
       "_view_name": "LayoutView",
       "align_content": null,
       "align_items": null,
       "align_self": null,
       "border": null,
       "bottom": null,
       "display": null,
       "flex": null,
       "flex_flow": null,
       "grid_area": null,
       "grid_auto_columns": null,
       "grid_auto_flow": null,
       "grid_auto_rows": null,
       "grid_column": null,
       "grid_gap": null,
       "grid_row": null,
       "grid_template_areas": null,
       "grid_template_columns": null,
       "grid_template_rows": null,
       "height": null,
       "justify_content": null,
       "justify_items": null,
       "left": null,
       "margin": null,
       "max_height": null,
       "max_width": null,
       "min_height": null,
       "min_width": null,
       "object_fit": null,
       "object_position": null,
       "order": null,
       "overflow": null,
       "overflow_x": null,
       "overflow_y": null,
       "padding": null,
       "right": null,
       "top": null,
       "visibility": null,
       "width": null
      }
     },
     "b665f04f7287420198dbece1c57a601b": {
      "model_module": "@jupyter-widgets/controls",
      "model_module_version": "1.5.0",
      "model_name": "ProgressStyleModel",
      "state": {
       "_model_module": "@jupyter-widgets/controls",
       "_model_module_version": "1.5.0",
       "_model_name": "ProgressStyleModel",
       "_view_count": null,
       "_view_module": "@jupyter-widgets/base",
       "_view_module_version": "1.2.0",
       "_view_name": "StyleView",
       "bar_color": null,
       "description_width": ""
      }
     },
     "cb84361950e54759a565025e85f371ef": {
      "model_module": "@jupyter-widgets/base",
      "model_module_version": "1.2.0",
      "model_name": "LayoutModel",
      "state": {
       "_model_module": "@jupyter-widgets/base",
       "_model_module_version": "1.2.0",
       "_model_name": "LayoutModel",
       "_view_count": null,
       "_view_module": "@jupyter-widgets/base",
       "_view_module_version": "1.2.0",
       "_view_name": "LayoutView",
       "align_content": null,
       "align_items": null,
       "align_self": null,
       "border": null,
       "bottom": null,
       "display": null,
       "flex": null,
       "flex_flow": null,
       "grid_area": null,
       "grid_auto_columns": null,
       "grid_auto_flow": null,
       "grid_auto_rows": null,
       "grid_column": null,
       "grid_gap": null,
       "grid_row": null,
       "grid_template_areas": null,
       "grid_template_columns": null,
       "grid_template_rows": null,
       "height": null,
       "justify_content": null,
       "justify_items": null,
       "left": null,
       "margin": null,
       "max_height": null,
       "max_width": null,
       "min_height": null,
       "min_width": null,
       "object_fit": null,
       "object_position": null,
       "order": null,
       "overflow": null,
       "overflow_x": null,
       "overflow_y": null,
       "padding": null,
       "right": null,
       "top": null,
       "visibility": null,
       "width": null
      }
     },
     "d020b7ae30be46088ab108316b67e90c": {
      "model_module": "@jupyter-widgets/controls",
      "model_module_version": "1.5.0",
      "model_name": "FloatProgressModel",
      "state": {
       "_dom_classes": [],
       "_model_module": "@jupyter-widgets/controls",
       "_model_module_version": "1.5.0",
       "_model_name": "FloatProgressModel",
       "_view_count": null,
       "_view_module": "@jupyter-widgets/controls",
       "_view_module_version": "1.5.0",
       "_view_name": "ProgressView",
       "bar_style": "",
       "description": "",
       "description_tooltip": null,
       "layout": "IPY_MODEL_0471c69b248546b3ad96ddeef9fd4da1",
       "max": 1.0,
       "min": 0.0,
       "orientation": "horizontal",
       "style": "IPY_MODEL_b665f04f7287420198dbece1c57a601b",
       "value": 0.0
      }
     },
     "dbc0ec8c0d5141fd955fea4e2a6e4ec3": {
      "model_module": "@jupyter-widgets/controls",
      "model_module_version": "1.5.0",
      "model_name": "VBoxModel",
      "state": {
       "_dom_classes": [],
       "_model_module": "@jupyter-widgets/controls",
       "_model_module_version": "1.5.0",
       "_model_name": "VBoxModel",
       "_view_count": null,
       "_view_module": "@jupyter-widgets/controls",
       "_view_module_version": "1.5.0",
       "_view_name": "VBoxView",
       "box_style": "",
       "children": [
        "IPY_MODEL_6dc581fcfa1b447db5aade1aeb3f2019",
        "IPY_MODEL_d020b7ae30be46088ab108316b67e90c"
       ],
       "layout": "IPY_MODEL_3e86326b84f049678207684aaec7369a"
      }
     },
     "fef3e3a685df4cf08b7f81866bfa8030": {
      "model_module": "@jupyter-widgets/controls",
      "model_module_version": "1.5.0",
      "model_name": "FloatProgressModel",
      "state": {
       "_dom_classes": [],
       "_model_module": "@jupyter-widgets/controls",
       "_model_module_version": "1.5.0",
       "_model_name": "FloatProgressModel",
       "_view_count": null,
       "_view_module": "@jupyter-widgets/controls",
       "_view_module_version": "1.5.0",
       "_view_name": "ProgressView",
       "bar_style": "",
       "description": "",
       "description_tooltip": null,
       "layout": "IPY_MODEL_76444b4618524cd894d2a194cac2877d",
       "max": 1.0,
       "min": 0.0,
       "orientation": "horizontal",
       "style": "IPY_MODEL_0607bcc2679b44ffbb82a8aa6f1e1f92",
       "value": 0.0
      }
     }
    },
    "version_major": 2,
    "version_minor": 0
   }
  }
 },
 "nbformat": 4,
 "nbformat_minor": 5
}
